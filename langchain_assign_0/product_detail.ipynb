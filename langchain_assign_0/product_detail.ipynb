{
 "cells": [
  {
   "cell_type": "markdown",
   "id": "5a341a8a",
   "metadata": {},
   "source": [
    "### Assisgment:\n",
    "Create a simple assistant that uses any LLM and should be pydantic, when we ask about any product it should give you two information product Name, product details tentative price in USD (integer). use chat Prompt Template.\n"
   ]
  },
  {
   "cell_type": "code",
   "execution_count": 1,
   "id": "6209c52d",
   "metadata": {},
   "outputs": [],
   "source": [
    "# Import required libraries\n",
    "import os\n",
    "from pydantic import BaseModel, Field\n",
    "from langchain_groq import ChatGroq\n",
    "from langchain.prompts import ChatPromptTemplate\n",
    "from langchain.schema.runnable import RunnablePassthrough"
   ]
  },
  {
   "cell_type": "code",
   "execution_count": 2,
   "id": "cd0cd3e0",
   "metadata": {},
   "outputs": [
    {
     "data": {
      "text/plain": [
       "{'description': 'Model for product information response',\n",
       " 'properties': {'product_name': {'description': 'The name of the product',\n",
       "   'title': 'Product Name',\n",
       "   'type': 'string'},\n",
       "  'product_details': {'description': 'Detailed description of the product including features, specifications, etc.',\n",
       "   'title': 'Product Details',\n",
       "   'type': 'string'},\n",
       "  'tentative_price_usd': {'description': 'Tentative price in USD as an integer',\n",
       "   'title': 'Tentative Price Usd',\n",
       "   'type': 'integer'}},\n",
       " 'required': ['product_name', 'product_details', 'tentative_price_usd'],\n",
       " 'title': 'ProductInfo',\n",
       " 'type': 'object'}"
      ]
     },
     "execution_count": 2,
     "metadata": {},
     "output_type": "execute_result"
    }
   ],
   "source": [
    "# Pydantic model for product information\n",
    "class ProductInfo(BaseModel):\n",
    "    \"\"\"Model for product information response\"\"\"\n",
    "    product_name: str = Field(description=\"The name of the product\")\n",
    "    product_details: str = Field(description=\"Detailed description of the product including features, specifications, etc.\")\n",
    "    tentative_price_usd: int = Field(description=\"Tentative price in USD as an integer\")\n",
    "\n",
    "\n",
    "\n",
    "ProductInfo.model_json_schema()"
   ]
  },
  {
   "cell_type": "code",
   "execution_count": 3,
   "id": "4b45eec0",
   "metadata": {},
   "outputs": [
    {
     "name": "stdout",
     "output_type": "stream",
     "text": [
      "Groq API key configured!\n"
     ]
    }
   ],
   "source": [
    "if \"GROQ_API_KEY\" not in os.environ:\n",
    "    api_key = input(\"Please enter your Groq API key: \")\n",
    "    os.environ[\"GROQ_API_KEY\"] = api_key\n",
    "\n",
    "print(\"Groq API key configured!\")"
   ]
  },
  {
   "cell_type": "code",
   "execution_count": 4,
   "id": "152846ad",
   "metadata": {},
   "outputs": [
    {
     "data": {
      "text/plain": [
       "'llama3-8b-8192'"
      ]
     },
     "execution_count": 4,
     "metadata": {},
     "output_type": "execute_result"
    }
   ],
   "source": [
    "# Initialize the Groq LLM\n",
    "llm = ChatGroq(\n",
    "    model=\"llama3-8b-8192\",\n",
    "    temperature=0.1,  # Low temperature for more consistent responses\n",
    "    max_tokens=500\n",
    ")\n",
    "\n",
    "llm.model_name"
   ]
  },
  {
   "cell_type": "code",
   "execution_count": 5,
   "id": "ce77ac9b",
   "metadata": {},
   "outputs": [],
   "source": [
    "from langchain.output_parsers import PydanticOutputParser"
   ]
  },
  {
   "cell_type": "code",
   "execution_count": 6,
   "id": "a30d3088",
   "metadata": {},
   "outputs": [],
   "source": [
    "output_parser = PydanticOutputParser(pydantic_object=ProductInfo)"
   ]
  },
  {
   "cell_type": "code",
   "execution_count": 7,
   "id": "4f71df55",
   "metadata": {},
   "outputs": [],
   "source": [
    "prompt_template = ChatPromptTemplate.from_messages([\n",
    "    (\"system\", \"\"\"\n",
    "    You are a helpful product information assistant. When a user asks about a product, \n",
    "    you should provide accurate information according to the format instructions below.\n",
    "    \n",
    "    Important guidelines:\n",
    "    - Provide realistic and accurate product information\n",
    "    - Price should be a reasonable estimate in USD as an integer (no decimals)\n",
    "    - Include detailed product specifications and features\n",
    "    - If you're not sure about a specific product, provide general information about that type of product\n",
    "    \n",
    "    {format_instructions}\n",
    "    \"\"\"),\n",
    "    (\"human\", \"Tell me about: {product_query}\")\n",
    "])"
   ]
  },
  {
   "cell_type": "code",
   "execution_count": 8,
   "id": "8b1ce67b",
   "metadata": {},
   "outputs": [
    {
     "data": {
      "text/plain": [
       "ChatPromptTemplate(input_variables=['format_instructions', 'product_query'], input_types={}, partial_variables={}, messages=[SystemMessagePromptTemplate(prompt=PromptTemplate(input_variables=['format_instructions'], input_types={}, partial_variables={}, template=\"\\n    You are a helpful product information assistant. When a user asks about a product, \\n    you should provide accurate information according to the format instructions below.\\n    \\n    Important guidelines:\\n    - Provide realistic and accurate product information\\n    - Price should be a reasonable estimate in USD as an integer (no decimals)\\n    - Include detailed product specifications and features\\n    - If you're not sure about a specific product, provide general information about that type of product\\n    \\n    {format_instructions}\\n    \"), additional_kwargs={}), HumanMessagePromptTemplate(prompt=PromptTemplate(input_variables=['product_query'], input_types={}, partial_variables={}, template='Tell me about: {product_query}'), additional_kwargs={})])"
      ]
     },
     "execution_count": 8,
     "metadata": {},
     "output_type": "execute_result"
    }
   ],
   "source": [
    "prompt_template"
   ]
  },
  {
   "cell_type": "code",
   "execution_count": 9,
   "id": "8e7f43e5",
   "metadata": {},
   "outputs": [
    {
     "data": {
      "text/plain": [
       "'The output should be formatted as a JSON instance that conforms to the JSON schema below.\\n\\nAs an example, for the schema {\"properties\": {\"foo\": {\"title\": \"Foo\", \"description\": \"a list of strings\", \"type\": \"array\", \"items\": {\"type\": \"string\"}}}, \"required\": [\"foo\"]}\\nthe object {\"foo\": [\"bar\", \"baz\"]} is a well-formatted instance of the schema. The object {\"properties\": {\"foo\": [\"bar\", \"baz\"]}} is not well-formatted.\\n\\nHere is the output schema:\\n```\\n{\"description\": \"Model for product information response\", \"properties\": {\"product_name\": {\"description\": \"The name of the product\", \"title\": \"Product Name\", \"type\": \"string\"}, \"product_details\": {\"description\": \"Detailed description of the product including features, specifications, etc.\", \"title\": \"Product Details\", \"type\": \"string\"}, \"tentative_price_usd\": {\"description\": \"Tentative price in USD as an integer\", \"title\": \"Tentative Price Usd\", \"type\": \"integer\"}}, \"required\": [\"product_name\", \"product_details\", \"tentative_price_usd\"]}\\n```'"
      ]
     },
     "execution_count": 9,
     "metadata": {},
     "output_type": "execute_result"
    }
   ],
   "source": [
    "output_parser.get_format_instructions()\n"
   ]
  },
  {
   "cell_type": "code",
   "execution_count": 10,
   "id": "d90f4ef2",
   "metadata": {},
   "outputs": [
    {
     "data": {
      "text/plain": [
       "{\n",
       "  product_query: RunnablePassthrough(),\n",
       "  format_instructions: RunnableLambda(...)\n",
       "}\n",
       "| ChatPromptTemplate(input_variables=['format_instructions', 'product_query'], input_types={}, partial_variables={}, messages=[SystemMessagePromptTemplate(prompt=PromptTemplate(input_variables=['format_instructions'], input_types={}, partial_variables={}, template=\"\\n    You are a helpful product information assistant. When a user asks about a product, \\n    you should provide accurate information according to the format instructions below.\\n    \\n    Important guidelines:\\n    - Provide realistic and accurate product information\\n    - Price should be a reasonable estimate in USD as an integer (no decimals)\\n    - Include detailed product specifications and features\\n    - If you're not sure about a specific product, provide general information about that type of product\\n    \\n    {format_instructions}\\n    \"), additional_kwargs={}), HumanMessagePromptTemplate(prompt=PromptTemplate(input_variables=['product_query'], input_types={}, partial_variables={}, template='Tell me about: {product_query}'), additional_kwargs={})])\n",
       "| ChatGroq(client=<groq.resources.chat.completions.Completions object at 0x000001A93C51B790>, async_client=<groq.resources.chat.completions.AsyncCompletions object at 0x000001A93C54DA20>, model_name='llama3-8b-8192', temperature=0.1, model_kwargs={}, groq_api_key=SecretStr('**********'), max_tokens=500)\n",
       "| PydanticOutputParser(pydantic_object=<class '__main__.ProductInfo'>)"
      ]
     },
     "execution_count": 10,
     "metadata": {},
     "output_type": "execute_result"
    }
   ],
   "source": [
    "chain = (\n",
    "    {\n",
    "        \"product_query\": RunnablePassthrough(),\n",
    "        \"format_instructions\": lambda _: output_parser.get_format_instructions()\n",
    "    }\n",
    "    | prompt_template\n",
    "    | llm\n",
    "    | output_parser\n",
    ")\n",
    "\n",
    "chain"
   ]
  },
  {
   "cell_type": "code",
   "execution_count": 12,
   "id": "1347cb38",
   "metadata": {},
   "outputs": [],
   "source": [
    "def get_product_info(product_query: str, show_raw_response: bool = False) -> ProductInfo:\n",
    "    try:\n",
    "        product_info = chain.invoke(product_query)\n",
    "        \n",
    "        # if show_raw_response:\n",
    "        #     print(f\"Raw LLM Response (parsed):\\n{product_info}\\n\")\n",
    "        \n",
    "        return product_info\n",
    "        \n",
    "    except Exception as e:\n",
    "        print(f\"Error getting product information: {e}\")\n",
    "        return None\n"
   ]
  },
  {
   "cell_type": "code",
   "execution_count": 13,
   "id": "d8e9eabc",
   "metadata": {},
   "outputs": [],
   "source": [
    "test_query = \"iPhone 14 Pro\""
   ]
  },
  {
   "cell_type": "code",
   "execution_count": 14,
   "id": "3f43fbcc",
   "metadata": {},
   "outputs": [],
   "source": [
    "result = get_product_info(test_query)"
   ]
  },
  {
   "cell_type": "code",
   "execution_count": 16,
   "id": "6415c9b4",
   "metadata": {},
   "outputs": [
    {
     "data": {
      "text/plain": [
       "('iPhone 14 Pro',\n",
       " \"The iPhone 14 Pro is a flagship smartphone developed by Apple Inc. It features a 6.1-inch Super Retina XDR OLED display with a resolution of 1284 x 2778 pixels. The device is powered by Apple's A16 Bionic chip, which provides fast performance and efficient battery life. The iPhone 14 Pro has a quad-camera setup, consisting of a 48MP primary sensor, a 12MP front camera, and a telephoto lens with 2x optical zoom. It also features a 120Hz refresh rate, IP68 water resistance, and a stainless steel frame. The device runs on iOS 16 and supports 5G connectivity. It is available in four colors: Space Gray, Gold, Silver, and Sierra Blue.\",\n",
       " 999)"
      ]
     },
     "execution_count": 16,
     "metadata": {},
     "output_type": "execute_result"
    }
   ],
   "source": [
    "result.product_name, result.product_details, result.tentative_price_usd"
   ]
  },
  {
   "cell_type": "code",
   "execution_count": 17,
   "id": "6e2966b3",
   "metadata": {},
   "outputs": [
    {
     "name": "stdout",
     "output_type": "stream",
     "text": [
      "Interactive function ready! Call ask_about_product() to start querying.\n"
     ]
    }
   ],
   "source": [
    "# Interactive function to query any product\n",
    "def ask_about_product():\n",
    "    \"\"\"\n",
    "    Interactive function to ask about any product\n",
    "    \"\"\"\n",
    "    print(\"\\n Product Information Assistant\")\n",
    "    print(\"Ask me about any product and I'll provide details!\")\n",
    "    print(\"Type 'quit' to exit\\n\")\n",
    "    \n",
    "    try:\n",
    "        while True:\n",
    "            try:\n",
    "                user_input = input(\"What product would you like to know about? \")\n",
    "                \n",
    "                if user_input.lower() in ['quit', 'exit', 'q']:\n",
    "                    print(\"Thanks for using the Product Assistant! 👋\")\n",
    "                    break\n",
    "                    \n",
    "                if user_input.strip():\n",
    "                    print(f\"\\n🔍 Searching for information about: {user_input}\")\n",
    "                    print(\"-\" * 60)\n",
    "                    \n",
    "                    try:\n",
    "                        result = get_product_info(user_input)\n",
    "                        if result:\n",
    "                            print(\"\\n Product Information:\")\n",
    "                            print(f\"• Name: {result.product_name}\")\n",
    "                            print(f\"• Details: {result.product_details}\")\n",
    "                            print(f\"• Estimated Price: ${result.tentative_price_usd} USD\")\n",
    "                        else:\n",
    "                            print(\" Sorry, couldn't retrieve product information.\")\n",
    "                    except Exception as e:\n",
    "                        print(f\" Error: {e}\")\n",
    "                    \n",
    "                    print(\"\\n\" + \"=\"*60)\n",
    "                else:\n",
    "                    print(\"Please enter a product name or 'quit' to exit.\")\n",
    "                    \n",
    "            except EOFError:\n",
    "                # Handle Ctrl+D (EOF)\n",
    "                print(\"\\n\\nExiting Product Assistant...\")\n",
    "                break\n",
    "                \n",
    "    except KeyboardInterrupt:\n",
    "        # Handle Ctrl+C\n",
    "        print(\"\\n\\nProduct Assistant interrupted. Goodbye!\")\n",
    "    except Exception as e:\n",
    "        print(f\"\\n\\nUnexpected error: {e}\")\n",
    "        print(\"Product Assistant stopped.\")\n",
    "\n",
    "print(\"Interactive function ready! Call ask_about_product() to start querying.\")"
   ]
  },
  {
   "cell_type": "code",
   "execution_count": 18,
   "id": "d8ff2af6",
   "metadata": {},
   "outputs": [
    {
     "name": "stdout",
     "output_type": "stream",
     "text": [
      "\n",
      " Product Information Assistant\n",
      "Ask me about any product and I'll provide details!\n",
      "Type 'quit' to exit\n",
      "\n",
      "\n",
      "🔍 Searching for information about: iphone 12\n",
      "------------------------------------------------------------\n",
      "\n",
      " Product Information:\n",
      "• Name: iPhone 12\n",
      "• Details: The iPhone 12 is a flagship smartphone developed by Apple Inc. It features a 6.1-inch Super Retina HD display with a resolution of 1080 x 2536 pixels. The device is powered by Apple's A14 Bionic chip, which provides fast performance and efficient battery life. The iPhone 12 has a quad-camera setup with a 12-megapixel main camera, a 12-megapixel ultra-wide-angle camera, a 12-megapixel telephoto camera, and a time-of-flight camera. It also features a 7-megapixel front camera with a TrueDepth sensor. The device has a stainless steel frame and is available in six colors: Space Gray, Gold, Silver, Red, Blue, and Coral. It also features IP68 water and dust resistance, wireless charging, and fast charging capabilities.\n",
      "• Estimated Price: $599 USD\n",
      "\n",
      "============================================================\n",
      "Thanks for using the Product Assistant! 👋\n"
     ]
    }
   ],
   "source": [
    "# To start the interactive assistant, uncomment and run: ask_about_product() and type `exit` to exit!\n",
    "ask_about_product()"
   ]
  },
  {
   "cell_type": "code",
   "execution_count": 19,
   "id": "8383990d",
   "metadata": {},
   "outputs": [
    {
     "name": "stdout",
     "output_type": "stream",
     "text": [
      "Testing multiple products:\n",
      "\n",
      "🔍 Querying: MacBook Pro M3\n",
      " MacBook Pro M3: $1299 : The MacBook Pro M3 is a high-performance laptop designed for professionals and creatives. It features a 13.3-inch Retina display with a resolution of 2560 x 1600 pixels, powered by Apple's M3 chip. It has 8GB of RAM and 256GB of SSD storage. The laptop also features a Touch Bar with Touch ID, a FaceTime HD camera, and two Thunderbolt 3 (USB-C) ports. It runs on macOS Monterey and has a battery life of up to 10 hours.\n",
      "----------------------------------------\n",
      "🔍 Querying: Tesla Model Y\n",
      " Tesla Model Y: $39000 : The Tesla Model Y is a compact luxury crossover SUV produced by Tesla, Inc. It was unveiled in March 2019 and is based on the same platform as the Model 3 sedan. The Model Y is designed to be a more practical and spacious alternative to the Model 3, with a larger cargo area and seating for up to seven passengers. It features a range of up to 315 miles on a single charge, depending on the trim level and options chosen. The Model Y is available in several trim levels, including the Standard Range, Long Range, and Performance. It also features advanced technology and safety features, including Autopilot, a semi-autonomous driving system, and a 15-inch touchscreen display.\n",
      "----------------------------------------\n",
      "🔍 Querying: PlayStation 5\n",
      " PlayStation 5: $399 : The PlayStation 5 is a next-generation gaming console developed by Sony Interactive Entertainment. It features a powerful AMD Zen 2 CPU, 8GB of GDDR6 RAM, and a custom Radeon RDNA 2 GPU. The console also includes a solid-state drive (SSD) for faster loading times and a new controller with haptic feedback and adaptive triggers. The PS5 is capable of 8K resolution gaming and supports ray tracing, 3D audio, and a range of other advanced graphics features. The console also includes a range of entertainment apps, including Netflix, Amazon Prime Video, and Disney+.\n",
      "----------------------------------------\n"
     ]
    }
   ],
   "source": [
    "# Simple test of multiple products\n",
    "test_products = [\"MacBook Pro M3\", \"Tesla Model Y\", \"PlayStation 5\"]\n",
    "\n",
    "print(\"Testing multiple products:\\n\")\n",
    "for product in test_products:\n",
    "    print(f\"🔍 Querying: {product}\")\n",
    "    result = get_product_info(product)\n",
    "    if result:\n",
    "        print(f\" {result.product_name}: ${result.tentative_price_usd} : {result.product_details}\")\n",
    "    else:\n",
    "        print(f\" Failed to get info for {product}\")\n",
    "    print(\"-\" * 40)"
   ]
  },
  {
   "cell_type": "markdown",
   "id": "a6c562e5",
   "metadata": {},
   "source": [
    "## How to Use the Product Assistant\n",
    "\n",
    "### Option 1: Direct Function Call\n",
    "```python\n",
    "# Get information about a specific product\n",
    "result = get_product_info(\"MacBook Pro M3\")\n",
    "if result:\n",
    "    print(f\"Product: {result.product_name}\")\n",
    "    print(f\"Price: ${result.product_details}\")\n",
    "    print(f\"Price: ${result.tentative_price_usd}\")\n",
    "```\n",
    "\n",
    "### Option 2: Interactive Mode\n",
    "```python\n",
    "# Start interactive session\n",
    "ask_about_product()\n",
    "```\n",
    "\n",
    "### Option 3: Test Multiple Products\n",
    "```python\n",
    "products = [\"Tesla Model 3\", \"PlayStation 5\", \"Nike Air Max\", \"Samsung Galaxy S24\"]\n",
    "for product in products:\n",
    "    info = get_product_info(product)\n",
    "    if info:\n",
    "        print(f\"{info.product_name}: ${info.tentative_price_usd} : {result.product_details}\")\n",
    "```"
   ]
  },
  {
   "cell_type": "markdown",
   "id": "edb892bb",
   "metadata": {},
   "source": []
  }
 ],
 "metadata": {
  "kernelspec": {
   "display_name": ".venv",
   "language": "python",
   "name": "python3"
  },
  "language_info": {
   "codemirror_mode": {
    "name": "ipython",
    "version": 3
   },
   "file_extension": ".py",
   "mimetype": "text/x-python",
   "name": "python",
   "nbconvert_exporter": "python",
   "pygments_lexer": "ipython3",
   "version": "3.10.17"
  }
 },
 "nbformat": 4,
 "nbformat_minor": 5
}
