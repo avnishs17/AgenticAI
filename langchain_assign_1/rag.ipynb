{
 "cells": [
  {
   "cell_type": "code",
   "execution_count": 1,
   "id": "bf12c6bb",
   "metadata": {},
   "outputs": [
    {
     "data": {
      "text/plain": [
       "True"
      ]
     },
     "execution_count": 1,
     "metadata": {},
     "output_type": "execute_result"
    }
   ],
   "source": [
    "import os\n",
    "from dotenv import load_dotenv\n",
    "load_dotenv()"
   ]
  },
  {
   "cell_type": "code",
   "execution_count": null,
   "id": "61df61fd",
   "metadata": {},
   "outputs": [],
   "source": [
    "from langchain.document_loaders import PyPDFLoader, DirectoryLoader"
   ]
  },
  {
   "cell_type": "code",
   "execution_count": 3,
   "id": "ec150bf7",
   "metadata": {},
   "outputs": [],
   "source": [
    "data_path = r\"D:\\agentic_ai_and_genai\\GEN_AI_Assignments\\data\"\n",
    "loader = DirectoryLoader(data_path, glob=\"*.pdf\", loader_cls=PyPDFLoader)\n",
    "documents = loader.load()"
   ]
  },
  {
   "cell_type": "code",
   "execution_count": 4,
   "id": "a95c01e3",
   "metadata": {},
   "outputs": [
    {
     "data": {
      "text/plain": [
       "205"
      ]
     },
     "execution_count": 4,
     "metadata": {},
     "output_type": "execute_result"
    }
   ],
   "source": [
    "len(documents)"
   ]
  },
  {
   "cell_type": "code",
   "execution_count": 5,
   "id": "3237e63a",
   "metadata": {},
   "outputs": [],
   "source": [
    "from langchain_google_genai import GoogleGenerativeAIEmbeddings\n",
    "semantic_embeddings = GoogleGenerativeAIEmbeddings(model=\"models/embedding-001\")\n"
   ]
  },
  {
   "cell_type": "code",
   "execution_count": 6,
   "id": "4f315abf",
   "metadata": {},
   "outputs": [],
   "source": [
    "from langchain_experimental.text_splitter import SemanticChunker\n",
    "text_splitter = SemanticChunker(semantic_embeddings, breakpoint_threshold_type=\"percentile\")\n",
    "chunks = text_splitter.split_documents(documents)"
   ]
  },
  {
   "cell_type": "markdown",
   "id": "bac57f5f",
   "metadata": {},
   "source": [
    "#### setup milvus locally windows\n",
    "#### run docker desktop as Administrator and use the docker terminal inside it.\n",
    "```bash \n",
    "Invoke-WebRequest https://raw.githubusercontent.com/milvus-io/milvus/refs/heads/master/scripts/standalone_embed.bat  -OutFile standalone.bat\n",
    "\n",
    "./standalone.bat start\n",
    "\n",
    "# after this restart it\n",
    "./standalone.bat restart\n",
    "\n",
    "./standalone.bat stop\n",
    "./standalone.bat delete\n",
    "```"
   ]
  },
  {
   "cell_type": "code",
   "execution_count": null,
   "id": "c53bf1fd",
   "metadata": {},
   "outputs": [
    {
     "name": "stdout",
     "output_type": "stream",
     "text": [
      "Milvus store ready\n"
     ]
    }
   ],
   "source": [
    "from langchain_milvus import Milvus\n",
    "from uuid import uuid4\n",
    "\n",
    "# Create a unique collection name for each index type later\n",
    "def get_collection_name(index_type):\n",
    "    return f\"rag_collection_{index_type}_{uuid4().hex}\"\n",
    "\n",
    "print(\"Milvus store ready\")"
   ]
  },
  {
   "cell_type": "code",
   "execution_count": 9,
   "id": "a3dc6e57",
   "metadata": {},
   "outputs": [],
   "source": [
    "from pymilvus import utility, connections"
   ]
  },
  {
   "cell_type": "code",
   "execution_count": 10,
   "id": "905b33e4",
   "metadata": {},
   "outputs": [
    {
     "data": {
      "text/plain": [
       "<pymilvus.orm.connections.Connections at 0x1d8741e5d50>"
      ]
     },
     "execution_count": 10,
     "metadata": {},
     "output_type": "execute_result"
    }
   ],
   "source": [
    "# Connect to Milvus\n",
    "connections.connect(alias=\"default\", host=\"localhost\", port=\"19530\")\n",
    "connections\n"
   ]
  },
  {
   "cell_type": "code",
   "execution_count": 11,
   "id": "543f82f4",
   "metadata": {},
   "outputs": [],
   "source": [
    "# Define index types and create Milvus stores\n",
    "index_configs = {\n",
    "    \"FLAT\": {\"index_type\": \"FLAT\", \"metric_type\": \"L2\"},\n",
    "    \"HNSW\": {\"index_type\": \"HNSW\", \"metric_type\": \"L2\", \"params\": {\"M\": 16, \"efConstruction\": 100}},\n",
    "    \"IVF\": {\"index_type\": \"IVF_FLAT\", \"metric_type\": \"L2\", \"params\": {\"nlist\": 100}}\n",
    "}"
   ]
  },
  {
   "cell_type": "code",
   "execution_count": 12,
   "id": "14d43843",
   "metadata": {},
   "outputs": [
    {
     "name": "stderr",
     "output_type": "stream",
     "text": [
      "2025-06-02 22:22:07,748 [DEBUG][_create_connection]: Created new connection using: 1562712f26dc442fa6e0d99bf3e55ca1 (async_milvus_client.py:599)\n"
     ]
    },
    {
     "name": "stdout",
     "output_type": "stream",
     "text": [
      "Creating collection: rag_collection_FLAT_4e2e261a89b24084a78b6f6dcb54cd95 with index: FLAT\n"
     ]
    },
    {
     "name": "stderr",
     "output_type": "stream",
     "text": [
      "d:\\agentic_ai_and_genai\\.venv\\lib\\site-packages\\langchain_milvus\\vectorstores\\milvus.py:1141: UserWarning: No ids provided and auto_id is False. Setting auto_id to True automatically.\n",
      "  warnings.warn(\n",
      "2025-06-02 22:22:49,769 [DEBUG][_create_connection]: Created new connection using: d9acd5284e434c658cdbf33277686c11 (async_milvus_client.py:599)\n"
     ]
    },
    {
     "name": "stdout",
     "output_type": "stream",
     "text": [
      "Creating collection: rag_collection_HNSW_f239b3c846174110817b4c885ea5f6ef with index: HNSW\n"
     ]
    },
    {
     "name": "stderr",
     "output_type": "stream",
     "text": [
      "2025-06-02 22:23:31,605 [DEBUG][_create_connection]: Created new connection using: 2799d5c4aa304249a6ad3ca7fc901db7 (async_milvus_client.py:599)\n"
     ]
    },
    {
     "name": "stdout",
     "output_type": "stream",
     "text": [
      "Creating collection: rag_collection_IVF_35676091663845fa909758d434c506a3 with index: IVF\n",
      "All indexes created and data inserted into Milvus\n",
      "HNSW Collection Name: rag_collection_HNSW_f239b3c846174110817b4c885ea5f6ef\n"
     ]
    }
   ],
   "source": [
    "# Dictionary to store vector store and collection name for each index type\n",
    "collections = {}\n",
    "\n",
    "for idx_type, params in index_configs.items():\n",
    "    collection_name = get_collection_name(idx_type)\n",
    "    \n",
    "    # Drop existing collection if it exists\n",
    "    if utility.has_collection(collection_name):\n",
    "        print(f\"Dropping existing collection: {collection_name}\")\n",
    "        utility.drop_collection(collection_name)\n",
    "\n",
    "    print(f\"Creating collection: {collection_name} with index: {idx_type}\")\n",
    "    \n",
    "    vector_store = Milvus(\n",
    "        embedding_function=semantic_embeddings,\n",
    "        connection_args={\"host\": \"localhost\", \"port\": \"19530\"},\n",
    "        index_params=params,\n",
    "        collection_name=collection_name,\n",
    "        enable_dynamic_field=True\n",
    "    )\n",
    "    \n",
    "    vector_store.add_documents(chunks)\n",
    "\n",
    "    # Store both the vector store and collection name\n",
    "    collections[idx_type] = {\n",
    "        \"store\": vector_store,\n",
    "        \"collection_name\": collection_name\n",
    "    }\n",
    "\n",
    "print(\"All indexes created and data inserted into Milvus\")\n",
    "print(\"HNSW Collection Name:\", collections['HNSW']['collection_name'])\n"
   ]
  },
  {
   "cell_type": "code",
   "execution_count": 17,
   "id": "b53ba081",
   "metadata": {},
   "outputs": [
    {
     "data": {
      "text/plain": [
       "{'store': <langchain_milvus.vectorstores.milvus.Milvus at 0x1d871465c60>,\n",
       " 'collection_name': 'rag_collection_HNSW_f239b3c846174110817b4c885ea5f6ef'}"
      ]
     },
     "execution_count": 17,
     "metadata": {},
     "output_type": "execute_result"
    }
   ],
   "source": [
    "collections['HNSW']"
   ]
  },
  {
   "cell_type": "code",
   "execution_count": 18,
   "id": "b7ae5893",
   "metadata": {},
   "outputs": [
    {
     "data": {
      "text/plain": [
       "<langchain_milvus.vectorstores.milvus.Milvus at 0x1d871465c60>"
      ]
     },
     "execution_count": 18,
     "metadata": {},
     "output_type": "execute_result"
    }
   ],
   "source": [
    "collections['HNSW']['store']"
   ]
  },
  {
   "cell_type": "code",
   "execution_count": 22,
   "id": "57675d27",
   "metadata": {},
   "outputs": [],
   "source": [
    "# Set up retrievers for each index\n",
    "retrievers = {}\n",
    "\n",
    "for idx_type, data in collections.items():\n",
    "    store = data[\"store\"]\n",
    "    retriever = store.as_retriever()\n",
    "    retrievers[idx_type] = retriever\n"
   ]
  },
  {
   "cell_type": "code",
   "execution_count": 24,
   "id": "369bbd33",
   "metadata": {},
   "outputs": [
    {
     "name": "stdout",
     "output_type": "stream",
     "text": [
      "FLAT: Retrieved in 3.7172s\n",
      "HNSW: Retrieved in 0.4745s\n",
      "IVF: Retrieved in 1.2689s\n"
     ]
    }
   ],
   "source": [
    "# Retrieval speed\n",
    "import time\n",
    "\n",
    "query = \"What is graph neural network?\"\n",
    "\n",
    "\n",
    "results = {}\n",
    "for idx_type, retriever in retrievers.items():\n",
    "    start_time = time.time()\n",
    "    docs = retriever.invoke(query)\n",
    "    elapsed = time.time() - start_time\n",
    "    results[idx_type] = {\"time\": elapsed, \"docs\": docs}\n",
    "    print(f\"{idx_type}: Retrieved in {elapsed:.4f}s\")"
   ]
  },
  {
   "cell_type": "code",
   "execution_count": 25,
   "id": "5902c58d",
   "metadata": {},
   "outputs": [],
   "source": [
    "from langchain_core.documents import Document\n",
    "from sklearn.metrics.pairwise import cosine_similarity"
   ]
  },
  {
   "cell_type": "code",
   "execution_count": 26,
   "id": "d31c662a",
   "metadata": {},
   "outputs": [],
   "source": [
    "query = \"What is graph neural network\"\n",
    "query_embedding = semantic_embeddings.embed_query(query)"
   ]
  },
  {
   "cell_type": "code",
   "execution_count": null,
   "id": "75af0a95",
   "metadata": {},
   "outputs": [],
   "source": [
    "def get_relevance_score(query_emb, doc: Document):\n",
    "    # Embed the document content\n",
    "    doc_embedding = semantic_embeddings.embed_documents([doc.page_content])[0]\n",
    "    \n",
    "    # Compute cosine similarity\n",
    "    sim = cosine_similarity([query_emb], [doc_embedding])[0][0]\n",
    "    return sim"
   ]
  },
  {
   "cell_type": "code",
   "execution_count": 28,
   "id": "77565bb5",
   "metadata": {},
   "outputs": [
    {
     "name": "stdout",
     "output_type": "stream",
     "text": [
      "Accuracy Scores: {'FLAT': 1.0, 'HNSW': 1.0, 'IVF': 1.0}\n"
     ]
    }
   ],
   "source": [
    "# Evaluate accuracy\n",
    "scores = {}\n",
    "for idx_type, result in results.items():\n",
    "    total = len(result[\"docs\"])\n",
    "    relevant = sum(\n",
    "        1 for doc in result[\"docs\"]\n",
    "        if get_relevance_score(query_embedding, doc) > 0.7  \n",
    "    )\n",
    "    scores[idx_type] = relevant / total if total > 0 else 0\n",
    "\n",
    "print(\"Accuracy Scores:\", scores)\n"
   ]
  },
  {
   "cell_type": "code",
   "execution_count": 31,
   "id": "4b5525e5",
   "metadata": {},
   "outputs": [
    {
     "name": "stdout",
     "output_type": "stream",
     "text": [
      "[FLAT] MMR Results:\n",
      "['XX, AUGUST 2019 1\\nA Comprehensive Survey on Graph Neural\\nNetworks\\nZonghan Wu, Shirui Pan, Member, IE', 'Neural Networks 173 (2024) 106207\\n7\\nW. Ju et al. where 𝜖 is a learnable parameter. More recently, ef', 'Unlike\\nother neural network architectures, GNNs can handle\\nnon-euclidean data with complex relations', '[\\n𝐴(𝑙)\\n(𝑟)(𝐺,𝐺′)\\n]\\n𝑢𝑢′\\n=\\n⎛\\n⎜\\n⎜\\n⎜\\n⎜\\n⎜⎝\\n[ (𝑙)∑\\n(𝑟−1)\\n(𝐺,𝐺)\\n]\\n𝑢𝑢′\\n,\\n[ (𝑙)∑\\n(𝑟−1)\\n(𝐺,𝐺′)\\n]\\n𝑢𝑢′\\n[ (𝑙)∑\\n(𝑟', '17.2.2. Combining spectral graph theory\\nDown to the theory foundations, the idea of graph neural net', 'IV. R ECURRENT GRAPH NEURAL NETWORKS\\nRecurrent graph neural networks (RecGNNs) are mostly pi-\\noneer ', 'For\\neach node, the model takes a weighted sum of its neighbors’ features\\nas well as its own features', 'XX, NO. XX, AUGUST 2019 3\\nnetwork embedding, another topic which attracts increasing\\nattention from ', 'They\\nassume the pre-deﬁned graph structure reﬂects the genuine\\ndependency relationships among nodes.']...\n",
      "\n",
      "[HNSW] MMR Results:\n",
      "['XX, AUGUST 2019 1\\nA Comprehensive Survey on Graph Neural\\nNetworks\\nZonghan Wu, Shirui Pan, Member, IE', 'Neural Networks 173 (2024) 106207\\n7\\nW. Ju et al. where 𝜖 is a learnable parameter. More recently, ef', 'Unlike\\nother neural network architectures, GNNs can handle\\nnon-euclidean data with complex relations', '[\\n𝐴(𝑙)\\n(𝑟)(𝐺,𝐺′)\\n]\\n𝑢𝑢′\\n=\\n⎛\\n⎜\\n⎜\\n⎜\\n⎜\\n⎜⎝\\n[ (𝑙)∑\\n(𝑟−1)\\n(𝐺,𝐺)\\n]\\n𝑢𝑢′\\n,\\n[ (𝑙)∑\\n(𝑟−1)\\n(𝐺,𝐺′)\\n]\\n𝑢𝑢′\\n[ (𝑙)∑\\n(𝑟', '17.2.2. Combining spectral graph theory\\nDown to the theory foundations, the idea of graph neural net', 'IV. R ECURRENT GRAPH NEURAL NETWORKS\\nRecurrent graph neural networks (RecGNNs) are mostly pi-\\noneer ', 'For\\neach node, the model takes a weighted sum of its neighbors’ features\\nas well as its own features', 'XX, NO. XX, AUGUST 2019 3\\nnetwork embedding, another topic which attracts increasing\\nattention from ', 'They\\nassume the pre-deﬁned graph structure reﬂects the genuine\\ndependency relationships among nodes.']...\n",
      "\n",
      "[IVF] MMR Results:\n",
      "['XX, AUGUST 2019 1\\nA Comprehensive Survey on Graph Neural\\nNetworks\\nZonghan Wu, Shirui Pan, Member, IE', 'Neural Networks 173 (2024) 106207\\n7\\nW. Ju et al. where 𝜖 is a learnable parameter. More recently, ef', 'Unlike\\nother neural network architectures, GNNs can handle\\nnon-euclidean data with complex relations', '[\\n𝐴(𝑙)\\n(𝑟)(𝐺,𝐺′)\\n]\\n𝑢𝑢′\\n=\\n⎛\\n⎜\\n⎜\\n⎜\\n⎜\\n⎜⎝\\n[ (𝑙)∑\\n(𝑟−1)\\n(𝐺,𝐺)\\n]\\n𝑢𝑢′\\n,\\n[ (𝑙)∑\\n(𝑟−1)\\n(𝐺,𝐺′)\\n]\\n𝑢𝑢′\\n[ (𝑙)∑\\n(𝑟', '17.2.2. Combining spectral graph theory\\nDown to the theory foundations, the idea of graph neural net', 'IV. R ECURRENT GRAPH NEURAL NETWORKS\\nRecurrent graph neural networks (RecGNNs) are mostly pi-\\noneer ', 'For\\neach node, the model takes a weighted sum of its neighbors’ features\\nas well as its own features', 'XX, NO. XX, AUGUST 2019 3\\nnetwork embedding, another topic which attracts increasing\\nattention from ', 'They\\nassume the pre-deﬁned graph structure reﬂects the genuine\\ndependency relationships among nodes.']...\n",
      "\n"
     ]
    }
   ],
   "source": [
    "#  Use MMR re-ranking\n",
    "mmr_results = {}\n",
    "\n",
    "for idx_type, data in collections.items():\n",
    "    store = data[\"store\"]\n",
    "    mmr_docs = store.max_marginal_relevance_search(query, k=9, lambda_mult=0.5)\n",
    "    mmr_results[idx_type] = mmr_docs\n",
    "    print(f\"[{idx_type}] MMR Results:\\n{[d.page_content[:100] for d in mmr_docs]}...\\n\")"
   ]
  },
  {
   "cell_type": "code",
   "execution_count": 32,
   "id": "87a7894d",
   "metadata": {},
   "outputs": [],
   "source": [
    "from langchain_core.prompts import PromptTemplate\n",
    "from langchain_google_genai import ChatGoogleGenerativeAI\n",
    "from langchain_core.runnables import RunnablePassthrough\n",
    "from langchain_core.output_parsers import StrOutputParser"
   ]
  },
  {
   "cell_type": "code",
   "execution_count": 33,
   "id": "8a7b4566",
   "metadata": {},
   "outputs": [],
   "source": [
    "llm = ChatGoogleGenerativeAI(model=\"gemini-2.5-flash-preview-04-17\", temperature=0.3)"
   ]
  },
  {
   "cell_type": "code",
   "execution_count": 34,
   "id": "1c62970a",
   "metadata": {},
   "outputs": [
    {
     "data": {
      "text/plain": [
       "{'FLAT': {'store': <langchain_milvus.vectorstores.milvus.Milvus at 0x1d87181b310>,\n",
       "  'collection_name': 'rag_collection_FLAT_4e2e261a89b24084a78b6f6dcb54cd95'},\n",
       " 'HNSW': {'store': <langchain_milvus.vectorstores.milvus.Milvus at 0x1d871465c60>,\n",
       "  'collection_name': 'rag_collection_HNSW_f239b3c846174110817b4c885ea5f6ef'},\n",
       " 'IVF': {'store': <langchain_milvus.vectorstores.milvus.Milvus at 0x1d8760c47f0>,\n",
       "  'collection_name': 'rag_collection_IVF_35676091663845fa909758d434c506a3'}}"
      ]
     },
     "execution_count": 34,
     "metadata": {},
     "output_type": "execute_result"
    }
   ],
   "source": [
    "collections"
   ]
  },
  {
   "cell_type": "code",
   "execution_count": 35,
   "id": "fd7a2d3f",
   "metadata": {},
   "outputs": [],
   "source": [
    "vector_store = collections['HNSW']['store']"
   ]
  },
  {
   "cell_type": "code",
   "execution_count": 36,
   "id": "52eaa438",
   "metadata": {},
   "outputs": [
    {
     "data": {
      "text/plain": [
       "<langchain_milvus.vectorstores.milvus.Milvus at 0x1d871465c60>"
      ]
     },
     "execution_count": 36,
     "metadata": {},
     "output_type": "execute_result"
    }
   ],
   "source": [
    "vector_store"
   ]
  },
  {
   "cell_type": "code",
   "execution_count": 38,
   "id": "9b4c0a8c",
   "metadata": {},
   "outputs": [],
   "source": [
    "retriever = vector_store.as_retriever(\n",
    "    search_type=\"similarity_score_threshold\",\n",
    "    search_kwargs={\"score_threshold\": 0.7, \"k\": 5}\n",
    ")"
   ]
  },
  {
   "cell_type": "code",
   "execution_count": 39,
   "id": "4f9f0ab1",
   "metadata": {},
   "outputs": [],
   "source": [
    "def format_docs(docs):\n",
    "    return \"\\n\\n\".join(doc.page_content for doc in docs)"
   ]
  },
  {
   "cell_type": "code",
   "execution_count": 40,
   "id": "b53a4fc7",
   "metadata": {},
   "outputs": [],
   "source": [
    "prompt=PromptTemplate(\n",
    "    template=\"\"\"You are an assistant for question-answering tasks. Use the following pieces of retrieved context to answer the question. If you don't know the answer, just say that you don't know. Use three sentences maximum and keep the answer concise.\\nQuestion: {question} \\nContext: {context} \\nAnswer:\"\"\",\n",
    "    input_variables=['context', 'question']\n",
    ")"
   ]
  },
  {
   "cell_type": "code",
   "execution_count": 41,
   "id": "3fbc8682",
   "metadata": {},
   "outputs": [],
   "source": [
    "rag_chain = (\n",
    "    {\"context\": retriever | format_docs, \"question\": RunnablePassthrough()}\n",
    "    | prompt\n",
    "    | llm\n",
    "    | StrOutputParser()\n",
    ")\n"
   ]
  },
  {
   "cell_type": "code",
   "execution_count": 42,
   "id": "c7a89ec3",
   "metadata": {},
   "outputs": [
    {
     "data": {
      "text/plain": [
       "'Graph Neural Networks (GNNs) are a type of neural network designed to handle data represented as graphs, which have complex relationships and interdependencies between objects in non-Euclidean domains. Unlike other neural networks, GNNs can process this non-Euclidean data. Most GNNs follow a message-passing framework and can be considered a generalization of convolutional neural networks for graphs.'"
      ]
     },
     "execution_count": 42,
     "metadata": {},
     "output_type": "execute_result"
    }
   ],
   "source": [
    "query = \"What is graph neural network?\"\n",
    "response = rag_chain.invoke(query)\n",
    "\n",
    "response"
   ]
  },
  {
   "cell_type": "code",
   "execution_count": 43,
   "id": "70234a77",
   "metadata": {},
   "outputs": [
    {
     "name": "stdout",
     "output_type": "stream",
     "text": [
      "Answer saved to rag_output.docx\n"
     ]
    }
   ],
   "source": [
    "from docx import Document\n",
    "\n",
    "doc = Document()\n",
    "doc.add_heading(\"RAG Response\", level=1)\n",
    "doc.add_paragraph(response)\n",
    "\n",
    "doc.save(\"rag_output.docx\")\n",
    "print(\"Answer saved to rag_output.docx\")"
   ]
  },
  {
   "cell_type": "code",
   "execution_count": null,
   "id": "859fbbe2",
   "metadata": {},
   "outputs": [],
   "source": []
  }
 ],
 "metadata": {
  "kernelspec": {
   "display_name": ".venv",
   "language": "python",
   "name": "python3"
  },
  "language_info": {
   "codemirror_mode": {
    "name": "ipython",
    "version": 3
   },
   "file_extension": ".py",
   "mimetype": "text/x-python",
   "name": "python",
   "nbconvert_exporter": "python",
   "pygments_lexer": "ipython3",
   "version": "3.10.17"
  }
 },
 "nbformat": 4,
 "nbformat_minor": 5
}
